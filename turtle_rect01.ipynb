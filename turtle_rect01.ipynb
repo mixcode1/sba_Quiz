{
 "cells": [
  {
   "cell_type": "code",
   "execution_count": 5,
   "metadata": {},
   "outputs": [],
   "source": [
    "class DrawPolynomial:\n",
    "\n",
    "    def __init__(self, width, height, color, shape='classic'):\n",
    "        self.width = width\n",
    "        self.height = height\n",
    "        self.color = color\n",
    "        self.shape = shape\n",
    "        \n",
    "    def area(self):\n",
    "        self.area = self.width * self.height\n",
    "        print(f'{self.area} sqare pixels')\n",
    "    \n",
    "    def get_attr(self, attr):\n",
    "        self.attr = attr\n",
    "        info = {'width':self.width, 'height':self.height, 'color':self.color}\n",
    "        print(f'{self.attr} is {info[self.attr]}')\n",
    "        \n",
    "    def change_attr(self, width=None, height=None, color=None):\n",
    "        self.width = width\n",
    "        self.height = height\n",
    "        self.color = color\n",
    "        \n",
    "    def draw(self):\n",
    "        import turtle as t\n",
    "\n",
    "        ang = 90\n",
    "        t.shape(self.shape)\n",
    "        t.speed(5)\n",
    "        t.delay(0)\n",
    "\n",
    "        t.penup()\n",
    "        t.goto(self.width / -2, self.height / 2)\n",
    "        t.fillcolor(self.color)\n",
    "        t.pendown()\n",
    "\n",
    "        t.begin_fill()\n",
    "        for i in range(2):\n",
    "            t.fd(self.width)\n",
    "            t.rt(ang)\n",
    "            t.fd(self.height)\n",
    "            t.rt(ang)\n",
    "        t.end_fill()\n",
    "\n",
    "        t.penup()\n",
    "        t.goto(0, 0)\n",
    "#         t.exitonclick()\n",
    "\n"
   ]
  },
  {
   "cell_type": "code",
   "execution_count": 7,
   "metadata": {
    "scrolled": true
   },
   "outputs": [
    {
     "name": "stdout",
     "output_type": "stream",
     "text": [
      "Width & Height: 300 400\n",
      "Color: green\n",
      "120000 sqare pixels\n",
      "width is 400\n",
      "color is pink\n"
     ]
    }
   ],
   "source": [
    "def get_inputs():\n",
    "    w, h = map(int, input('Width & Height: ').split())\n",
    "    col = input('Color: ')\n",
    "    return [w, h, col]\n",
    "\n",
    "def main():\n",
    "    attrs = get_inputs()\n",
    "    poly = DrawPolynomial(attrs[0], attrs[1], attrs[2])\n",
    "    poly.draw()\n",
    "    poly.area()\n",
    "\n",
    "    poly.change_attr(400, 150, 'pink')\n",
    "    poly.draw()\n",
    "    poly.get_attr('width')\n",
    "    poly.get_attr('color')\n",
    "    \n",
    "    poly.change_attr(120, 330, 'orange')\n",
    "    poly.draw()\n",
    "    \n",
    "main()\n"
   ]
  },
  {
   "cell_type": "code",
   "execution_count": null,
   "metadata": {},
   "outputs": [],
   "source": []
  }
 ],
 "metadata": {
  "kernelspec": {
   "display_name": "aiffel",
   "language": "python",
   "name": "aiffel"
  },
  "language_info": {
   "codemirror_mode": {
    "name": "ipython",
    "version": 3
   },
   "file_extension": ".py",
   "mimetype": "text/x-python",
   "name": "python",
   "nbconvert_exporter": "python",
   "pygments_lexer": "ipython3",
   "version": "3.7.8"
  }
 },
 "nbformat": 4,
 "nbformat_minor": 4
}
